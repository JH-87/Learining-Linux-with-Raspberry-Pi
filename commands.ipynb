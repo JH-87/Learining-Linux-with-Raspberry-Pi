{
 "cells": [
  {
   "cell_type": "markdown",
   "metadata": {},
   "source": [
    "\n",
    "<img src=\"images/Screenshot%202022-10-05%20at%2000.25.01.png\" alt=\"basic commands 1\" width=\"1000\"/>\n",
    "<img src=\"images/Screenshot%202022-10-05%20at%2000.27.51.png\" alt=\"basic commands 2\" width=\"1000\"/>\n",
    "<img src=\"images/Screenshot%202022-10-05%20at%2000.28.37.png\" alt=\"basic commands 3\" width=\"1000\"/>\n",
    "\n"
   ]
  },
  {
   "cell_type": "markdown",
   "metadata": {},
   "source": [
    "$ vcgencmd measure_temp  --> cpu temperature as string "
   ]
  },
  {
   "cell_type": "markdown",
   "metadata": {},
   "source": [
    "### $ df --> displays the amount of available disk space\n",
    "\n",
    "<img src=\"images/df.png\" alt=\"df\" width=\"500\"/>\n",
    "\n",
    "### $ df -h --> human readable \n",
    "\n",
    "<img src=\"images/df%20-h.png\" alt=\"df -h\" width=\"500\"/>\n",
    "\n",
    "### $ df -k --> Use 1024-byte units, instead of the default 512-byte units, when writing space figures.\n",
    "\n",
    "<img src=\"images/df%20-k.png\" alt=\"df -k\" width=\"500\"/>\n",
    "\n",
    "### $ df -P --> Use a standard, portable, output format\n",
    "\n",
    "<img src=\"images/df%20-P.png\" alt=\"df -P\" width=\"500\"/>\n",
    "\n",
    "### $ df file --> Write the amount of free space of the file system containing the specified file\n",
    "\n",
    "<img src=\"images/df%20file.png\" alt=\"df file\" width=\"500\"/>"
   ]
  },
  {
   "cell_type": "markdown",
   "metadata": {},
   "source": [
    "### $ lsusb --> shows usb ports \n",
    "\n",
    "<img src=\"images/lsusb.png\" alt=\"lsusb\" width=\"500\"/>"
   ]
  },
  {
   "cell_type": "markdown",
   "metadata": {},
   "source": [
    "$ clear --> clears terminal"
   ]
  },
  {
   "cell_type": "markdown",
   "metadata": {},
   "source": [
    "$sudo --> superuser do"
   ]
  },
  {
   "cell_type": "markdown",
   "metadata": {},
   "source": [
    "### $ exit --> closes ssh connection \n",
    "\n",
    "<img src=\"images/exit.png\" alt=\"lsusb\" width=\"500\"/>"
   ]
  },
  {
   "cell_type": "code",
   "execution_count": null,
   "metadata": {},
   "outputs": [],
   "source": []
  }
 ],
 "metadata": {
  "kernelspec": {
   "display_name": "Python 3.10.6 64-bit",
   "language": "python",
   "name": "python3"
  },
  "language_info": {
   "name": "python",
   "version": "3.10.7"
  },
  "orig_nbformat": 4,
  "vscode": {
   "interpreter": {
    "hash": "b0fa6594d8f4cbf19f97940f81e996739fb7646882a419484c72d19e05852a7e"
   }
  }
 },
 "nbformat": 4,
 "nbformat_minor": 2
}
